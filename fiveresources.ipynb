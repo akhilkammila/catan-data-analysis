{
 "cells": [
  {
   "cell_type": "markdown",
   "metadata": {},
   "source": [
    "# Starting with all 5\n",
    "Starting with all 5 seems to usually win.\n",
    "- A very reliable strategy (especially w/ 2nd pick) is to make it awkward for the opponent to get all 5\n",
    "- All 5 seems to lead to: quick initial settles\n",
    "    - if opponent is OWS, they usually get 2 cities --> try to pop\n",
    "    - if we can get to ore & up production in the meantime, we are usually good\n",
    "\n",
    "    - hypothesis: all 5 beats most, except for strong OWS"
   ]
  }
 ],
 "metadata": {
  "language_info": {
   "name": "python"
  }
 },
 "nbformat": 4,
 "nbformat_minor": 2
}
